{
 "cells": [
  {
   "cell_type": "code",
   "execution_count": 1,
   "metadata": {},
   "outputs": [
    {
     "name": "stderr",
     "output_type": "stream",
     "text": [
      "/Users/chdallago/miniconda3/envs/allennlp/lib/python3.6/site-packages/sklearn/utils/linear_assignment_.py:21: DeprecationWarning: The linear_assignment_ module is deprecated in 0.21 and will be removed from 0.23. Use scipy.optimize.linear_sum_assignment instead.\n",
      "  DeprecationWarning)\n"
     ]
    }
   ],
   "source": [
    "from bio_embeddings.embed import AlbertEmbedder\n",
    "from Bio import SeqIO"
   ]
  },
  {
   "cell_type": "code",
   "execution_count": 2,
   "metadata": {},
   "outputs": [],
   "source": [
    "sequences = []\n",
    "for record in SeqIO.parse(\"tiny_sampled.fasta\", \"fasta\"):\n",
    "    sequences.append(record)"
   ]
  },
  {
   "cell_type": "code",
   "execution_count": 3,
   "metadata": {},
   "outputs": [],
   "source": [
    "embedder = AlbertEmbedder(model_directory='../models/albert')"
   ]
  },
  {
   "cell_type": "code",
   "execution_count": 4,
   "metadata": {},
   "outputs": [
    {
     "name": "stdout",
     "output_type": "stream",
     "text": [
      "WARNING: Trying to embed a sequence of length 1584, but maximal length allowed is 510.\n",
      "The embedding for this sequence will be zeroes!\n"
     ]
    }
   ],
   "source": [
    "embeddings = embedder.embed_many([str(s.seq) for s in sequences])"
   ]
  },
  {
   "cell_type": "code",
   "execution_count": 5,
   "metadata": {},
   "outputs": [],
   "source": [
    "reduced_embeddings = [AlbertEmbedder.reduce_per_protein(e) for e in embeddings]"
   ]
  },
  {
   "cell_type": "code",
   "execution_count": 7,
   "metadata": {},
   "outputs": [
    {
     "name": "stdout",
     "output_type": "stream",
     "text": [
      "(129, 4096) (4096,)\n",
      "(129, 4096) (4096,)\n",
      "(46, 4096) (4096,)\n",
      "(133, 4096) (4096,)\n",
      "(172, 4096) (4096,)\n",
      "(386, 4096) (4096,)\n",
      "(133, 4096) (4096,)\n",
      "(207, 4096) (4096,)\n",
      "(165, 4096) (4096,)\n",
      "(439, 4096) (4096,)\n",
      "(159, 4096) (4096,)\n",
      "(1584, 4096) (4096,)\n"
     ]
    }
   ],
   "source": [
    "for (per_amino_acid, per_protein) in zip(embeddings, reduced_embeddings):\n",
    "    print(per_amino_acid.shape, per_protein.shape)"
   ]
  },
  {
   "cell_type": "code",
   "execution_count": null,
   "metadata": {},
   "outputs": [],
   "source": []
  }
 ],
 "metadata": {
  "kernelspec": {
   "display_name": "Python 3",
   "language": "python",
   "name": "python3"
  },
  "language_info": {
   "codemirror_mode": {
    "name": "ipython",
    "version": 3
   },
   "file_extension": ".py",
   "mimetype": "text/x-python",
   "name": "python",
   "nbconvert_exporter": "python",
   "pygments_lexer": "ipython3",
   "version": "3.6.8"
  }
 },
 "nbformat": 4,
 "nbformat_minor": 2
}