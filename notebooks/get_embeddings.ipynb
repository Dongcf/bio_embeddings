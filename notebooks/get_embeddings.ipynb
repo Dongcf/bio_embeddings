{
 "cells": [
  {
   "cell_type": "code",
   "execution_count": 1,
   "metadata": {
    "collapsed": false
   },
   "outputs": [
    {
     "name": "stderr",
     "output_type": "stream",
     "text": [
      "/Users/chdallago/miniconda3/envs/allennlp/lib/python3.6/site-packages/sklearn/utils/linear_assignment_.py:21: DeprecationWarning: The linear_assignment_ module is deprecated in 0.21 and will be removed from 0.23. Use scipy.optimize.linear_sum_assignment instead.\n  DeprecationWarning)\n"
     ]
    }
   ],
   "source": [
    "from bio_embeddings import ElmoEmbedder, Word2VecEmbedder"
   ]
  },
  {
   "cell_type": "code",
   "execution_count": 2,
   "metadata": {
    "collapsed": false
   },
   "outputs": [
    {
     "name": "stdout",
     "output_type": "stream",
     "text": [
      "Downloading files ELMO v1 embedder\nDownloading weights from http://maintenance.dallago.us/public/embeddings/embedding_models/seqvec/weights.hdf5\n"
     ]
    },
    {
     "name": "stdout",
     "output_type": "stream",
     "text": [
      "Downloading options from http://maintenance.dallago.us/public/embeddings/embedding_models/seqvec/options.json\n"
     ]
    },
    {
     "name": "stdout",
     "output_type": "stream",
     "text": [
      "Downloading subcellular location checkpoint from http://maintenance.dallago.us/public/embeddings/feature_models/seqvec/subcell_checkpoint.pt\n"
     ]
    },
    {
     "name": "stdout",
     "output_type": "stream",
     "text": [
      "Downloading secondary structure checkpoint from http://maintenance.dallago.us/public/embeddings/feature_models/seqvec/secstruct_checkpoint.pt\n"
     ]
    },
    {
     "name": "stdout",
     "output_type": "stream",
     "text": [
      "Downloaded files for ELMO v1 embedder\nCUDA NOT available\n"
     ]
    }
   ],
   "source": [
    "elmo_embedder = ElmoEmbedder()"
   ]
  },
  {
   "cell_type": "code",
   "execution_count": 3,
   "metadata": {},
   "outputs": [],
   "source": [
    "sequence = \"MALLHSARVLSGVASAFHPGLAAAASARASSWWAHVEMGPPDPILGVTEAYKRDTNSKKMNLGVGAYRDDNGKPYVLPSVRKAEAQIAAKGLDKEYLPIGGLAEFCRASAELALGENSEVVKSGRFVTVQTISGTGALRIGASFLQRFFKFSRDVFLPKPSWGNHTPIFRDAGMQLQSYRYYDPKTCGFDFTGALEDISKIPEQSVLLLHACAHNPTGVDPRPEQWKEIATVVKKRNLFAFFDMAYQGFASGDGDKDAWAVRHFIEQGINVCLCQSYAKNMGLYGERVGAFTVICKDADEAKRVESQLKILIRPMYSNPPIHGARIASTILTSPDLRKQWLQEVKGMADRIIGMRTQLVSNLKKEGSTHSWQHITDQIGMFCFTGLKPEQVERLTKEFSIYMTKDGRISVAGVTSGNVGYLAHAIHQVTK\"\n",
    "embedding = elmo_embedder.embed(sequence)\n",
    "features = elmo_embedder.get_features()"
   ]
  },
  {
   "cell_type": "code",
   "execution_count": 4,
   "metadata": {},
   "outputs": [
    {
     "data": {
      "text/plain": [
       "{'predictedSubcellularLocalizations': 'Mitochondrion',\n 'predictedMembrane': 'Soluble',\n 'predictedDSSP3': 'CCCCCCCCCCCCCCCCCCCCCCCCCCCCCCCHHHHCCCCCCCCHHHHHHHHHHCCCCCCEECCCCCECCCCCCECCCHHHHHHHHHHHHCCCCCCCCCCCCCHHHHHHHHHHHHCCCCHHCCCCCEEEEEECCHHHHHHHHHHHHHHHHCCCCEEEEECCCCCCHHHHHHHHCCEEEEEEECCCCCCCECHHHHHHHHHHCCCCCEEEEEECCCCCCCCCCCHHHHHHHHHHHHHCCCEEEEECCCCCCCCCCCCCCHHHHHHHHHHCCCEEEEEECCCCCCCCCCCCCEEEEEECCHHHHHHHHHHHHHHCCCCCCCCHHHHHHHHHHHHCCHHHHHHHHHHHHHHHHHHHHHHHHHHHHHHHCCCCCCCHHHHHCCCEEEEECCCHHHHHHHHHHCEEEEECCCCEEECCCCHHHHHHHHHHHHHHHC',\n 'predictedDSSP8': 'CCCCCCCCCCCCCCCCCCCCCHHCCCCCCCCHHGGCCCCCCCCHHHHHHHHHHHTTCCCECCCCCCECCTTSCBCCCHHHHHHHHHHHHTTCCCCCCCCTCCHHHHHHHHHHHHTCCCHHCCTCCEEEEEESCHHHHHHHHHHHHHHHHTCCSEEEEECSCCTTHHHHHHHTTCEEEEEEECCTTTCCECHHHHHHHHHTCCTTCEEEEECSSCCTTCCCCCHHHHHHHHHHHHHTTCEEEEECTTTTCCCTTTCTTHHHHHHHHHTTCCEEEEEETTSTTCCTTCCCEEEEEEESCHHHHHHHHHHHHHHCCCTTSCHHHHHHHHHHHHTTCHHHHHHHHHHHHHHHHHHHHHHHHHHHHHHHTTCCCCEHHHHHTCCEEEEEECCHHHHHHHHHHEEEEEETTSEEEEECCCHHHHHHHHHHHHHHHC',\n 'predictedDisorder': 'XXXXXXXXXXXXXXXXXXXXXXXXX---------------------------------------------------------------------------------------------------------------------------------------------------------------------------------------------------------------------------------------------------------------------------------------------------------------------------------------------------------------------------------------------------------------------'}"
      ]
     },
     "execution_count": 4,
     "metadata": {},
     "output_type": "execute_result"
    }
   ],
   "source": [
    "features.to_dict()"
   ]
  },
  {
   "cell_type": "code",
   "execution_count": 2,
   "metadata": {},
   "outputs": [
    {
     "name": "stdout",
     "output_type": "stream",
     "text": [
      "Downloading files word2vec embedder\nDownloading model file from http://maintenance.dallago.us/public/embeddings/embedding_models/word2vec/word2vec.model\n"
     ]
    },
    {
     "name": "stdout",
     "output_type": "stream",
     "text": [
      "Downloaded files for word2vec embedder\n"
     ]
    },
    {
     "name": "stderr",
     "output_type": "stream",
     "text": [
      "/Users/chdallago/miniconda3/envs/allennlp/lib/python3.6/site-packages/smart_open/smart_open_lib.py:398: UserWarning: This function is deprecated, use smart_open.open instead. See the migration notes for details: https://github.com/RaRe-Technologies/smart_open/blob/master/README.rst#migrating-to-the-new-open-function\n  'See the migration notes for details: %s' % _MIGRATION_NOTES_URL\n"
     ]
    }
   ],
   "source": [
    "word2vec_embedder = Word2VecEmbedder()"
   ]
  },
  {
   "cell_type": "code",
   "execution_count": 3,
   "metadata": {},
   "outputs": [],
   "source": [
    "sequence = \"MALLHSARVLSGVASAFHPGLAAAASARASSWWAHVEMGPPDPILGVTEAYKRDTNSKKMNLGVGAYRDDNGKPYVLPSVRKAEAQIAAKGLDKEYLPIGGLAEFCRASAELALGENSEVVKSGRFVTVQTISGTGALRIGASFLQRFFKFSRDVFLPKPSWGNHTPIFRDAGMQLQSYRYYDPKTCGFDFTGALEDISKIPEQSVLLLHACAHNPTGVDPRPEQWKEIATVVKKRNLFAFFDMAYQGFASGDGDKDAWAVRHFIEQGINVCLCQSYAKNMGLYGERVGAFTVICKDADEAKRVESQLKILIRPMYSNPPIHGARIASTILTSPDLRKQWLQEVKGMADRIIGMRTQLVSNLKKEGSTHSWQHITDQIGMFCFTGLKPEQVERLTKEFSIYMTKDGRISVAGVTSGNVGYLAHAIHQVTK\"\n",
    "embedding = word2vec_embedder.embed(sequence)"
   ]
  },
  {
   "cell_type": "code",
   "execution_count": 4,
   "metadata": {},
   "outputs": [
    {
     "data": {
      "text/plain": [
       "array([[ 0.        ,  0.        ,  0.        , ...,  0.        ,\n         0.        ,  0.        ],\n       [-0.00588455, -0.00023102, -0.01006906, ..., -0.0889207 ,\n         0.06416938, -0.03499076],\n       [-0.02564642,  0.03689039,  0.00393819, ..., -0.05283653,\n         0.03587689, -0.0719035 ],\n       ...,\n       [-0.02891347, -0.0583595 ,  0.03714152, ..., -0.08991146,\n        -0.00440249, -0.10435953],\n       [-0.08981168, -0.05651524,  0.00325494, ..., -0.10488345,\n        -0.00178122, -0.07512309],\n       [ 0.        ,  0.        ,  0.        , ...,  0.        ,\n         0.        ,  0.        ]], dtype=float32)"
      ]
     },
     "execution_count": 4,
     "metadata": {},
     "output_type": "execute_result"
    }
   ],
   "source": [
    "embedding"
   ]
  },
  {
   "cell_type": "code",
   "execution_count": null,
   "metadata": {},
   "outputs": [],
   "source": []
  }
 ],
 "metadata": {
  "kernelspec": {
   "display_name": "Python 2",
   "language": "python",
   "name": "python2"
  },
  "language_info": {
   "codemirror_mode": {
    "name": "ipython",
    "version": 2
   },
   "file_extension": ".py",
   "mimetype": "text/x-python",
   "name": "python",
   "nbconvert_exporter": "python",
   "pygments_lexer": "ipython2",
   "version": "2.7.6"
  }
 },
 "nbformat": 4,
 "nbformat_minor": 0
}
