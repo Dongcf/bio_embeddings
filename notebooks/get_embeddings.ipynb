{
 "cells": [
  {
   "cell_type": "code",
   "execution_count": 1,
   "metadata": {},
   "outputs": [
    {
     "name": "stderr",
     "output_type": "stream",
     "text": [
      "/Users/chdallago/miniconda3/envs/allennlp/lib/python3.6/site-packages/sklearn/utils/linear_assignment_.py:21: DeprecationWarning: The linear_assignment_ module is deprecated in 0.21 and will be removed from 0.23. Use scipy.optimize.linear_sum_assignment instead.\n",
      "  DeprecationWarning)\n"
     ]
    }
   ],
   "source": [
    "#from bio_embeddings import ElmoEmbedder, Word2VecEmbedder, FastTextEmbedder, GloveEmbedder, TransformerXLEmbedder\n",
    "from bio_embeddings import TransformerXLEmbedder"
   ]
  },
  {
   "cell_type": "code",
   "execution_count": 2,
   "metadata": {},
   "outputs": [],
   "source": [
    "sequence = \"MALLHSARVLSGVASAFHPGLAAAASARASSWWAHVEMGPPDPILGVTEAYKRDTNSKKMNLGVGAYRDDNGKPYVLPSVRKAEAQIAAKGLDKEYLPIGGLAEFCRASAELALGENSEVVKSGRFVTVQTISGTGALRIGASFLQRFFKFSRDVFLPKPSWGNHTPIFRDAGMQLQSYRYYDPKTCGFDFTGALEDISKIPEQSVLLLHACAHNPTGVDPRPEQWKEIATVVKKRNLFAFFDMAYQGFASGDGDKDAWAVRHFIEQGINVCLCQSYAKNMGLYGERVGAFTVICKDADEAKRVESQLKILIRPMYSNPPIHGARIASTILTSPDLRKQWLQEVKGMADRIIGMRTQLVSNLKKEGSTHSWQHITDQIGMFCFTGLKPEQVERLTKEFSIYMTKDGRISVAGVTSGNVGYLAHAIHQVTK\""
   ]
  },
  {
   "cell_type": "code",
   "execution_count": null,
   "metadata": {},
   "outputs": [
    {
     "name": "stdout",
     "output_type": "stream",
     "text": [
      "Downloading files transformer_base embedder\n",
      "Downloading model file from http://maintenance.dallago.us/public/embeddings/embedding_models/transformerxl_base/model.pt\n"
     ]
    }
   ],
   "source": [
    "# embedder = ElmoEmbedder()\n",
    "# embedder = Word2VecEmbedder()\n",
    "# embedder = FastTextEmbedder()\n",
    "# embedder = GloveEmbedder()\n",
    "embedder = TransformerXLEmbedder()"
   ]
  },
  {
   "cell_type": "code",
   "execution_count": 4,
   "metadata": {},
   "outputs": [
    {
     "data": {
      "text/plain": [
       "array([[-0.24938361,  0.18987447,  0.0464761 , ...,  0.27952614,\n",
       "         0.22117937,  0.03270779],\n",
       "       [-0.2569034 ,  0.1562272 ,  0.06061473, ...,  0.30093324,\n",
       "         0.2626487 ,  0.01628365],\n",
       "       [-0.26686424,  0.15711936,  0.01947743, ...,  0.3106352 ,\n",
       "         0.19984972, -0.0058808 ],\n",
       "       ...,\n",
       "       [-0.01506491, -0.03656203,  0.18786487, ..., -0.12905028,\n",
       "         0.13692981,  0.0734432 ],\n",
       "       [-0.02031393, -0.050381  , -0.07132848, ...,  0.02121623,\n",
       "         0.2284526 ,  0.09195912],\n",
       "       [ 0.05972639, -0.09811313, -0.03919035, ...,  0.0121968 ,\n",
       "         0.0595683 ,  0.20553797]], dtype=float32)"
      ]
     },
     "execution_count": 4,
     "metadata": {},
     "output_type": "execute_result"
    }
   ],
   "source": [
    "embedding = embedder.embed(sequence)\n",
    "embedding"
   ]
  },
  {
   "cell_type": "code",
   "execution_count": null,
   "metadata": {},
   "outputs": [],
   "source": []
  }
 ],
 "metadata": {
  "kernelspec": {
   "display_name": "Python 3",
   "language": "python",
   "name": "python3"
  },
  "language_info": {
   "codemirror_mode": {
    "name": "ipython",
    "version": 3
   },
   "file_extension": ".py",
   "mimetype": "text/x-python",
   "name": "python",
   "nbconvert_exporter": "python",
   "pygments_lexer": "ipython3",
   "version": "3.6.8"
  }
 },
 "nbformat": 4,
 "nbformat_minor": 1
}
