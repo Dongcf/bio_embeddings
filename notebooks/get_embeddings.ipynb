{
 "cells": [
  {
   "cell_type": "code",
   "execution_count": 1,
   "metadata": {
    "collapsed": false
   },
   "outputs": [
    {
     "name": "stderr",
     "output_type": "stream",
     "text": [
      "/Users/chdallago/miniconda3/envs/allennlp/lib/python3.6/site-packages/sklearn/utils/linear_assignment_.py:21: DeprecationWarning: The linear_assignment_ module is deprecated in 0.21 and will be removed from 0.23. Use scipy.optimize.linear_sum_assignment instead.\n  DeprecationWarning)\n"
     ]
    }
   ],
   "source": [
    "from bio_embeddings import ElmoEmbedder"
   ]
  },
  {
   "cell_type": "code",
   "execution_count": 2,
   "metadata": {
    "collapsed": false
   },
   "outputs": [
    {
     "name": "stdout",
     "output_type": "stream",
     "text": [
      "Downloading files ELMO v1 embedder\nDownloading weights from http://maintenance.dallago.us/public/embeddings/embedding_models/seqvec/weights.hdf5\n"
     ]
    },
    {
     "name": "stdout",
     "output_type": "stream",
     "text": [
      "Downloading options from http://maintenance.dallago.us/public/embeddings/embedding_models/seqvec/options.json\n"
     ]
    },
    {
     "name": "stdout",
     "output_type": "stream",
     "text": [
      "Downloading subcellular location checkpoint from http://maintenance.dallago.us/public/embeddings/feature_models/seqvec/subcell_checkpoint.pt\n"
     ]
    },
    {
     "name": "stdout",
     "output_type": "stream",
     "text": [
      "Downloading secondary structure checkpoint from http://maintenance.dallago.us/public/embeddings/feature_models/seqvec/secstruct_checkpoint.pt\n"
     ]
    },
    {
     "name": "stdout",
     "output_type": "stream",
     "text": [
      "Downloaded files for ELMO v1 embedder\nCUDA NOT available\n"
     ]
    }
   ],
   "source": [
    "elmo_embedder = ElmoEmbedder()"
   ]
  },
  {
   "cell_type": "code",
   "execution_count": 3,
   "metadata": {},
   "outputs": [],
   "source": [
    "sequence = \"MALLHSARVLSGVASAFHPGLAAAASARASSWWAHVEMGPPDPILGVTEAYKRDTNSKKMNLGVGAYRDDNGKPYVLPSVRKAEAQIAAKGLDKEYLPIGGLAEFCRASAELALGENSEVVKSGRFVTVQTISGTGALRIGASFLQRFFKFSRDVFLPKPSWGNHTPIFRDAGMQLQSYRYYDPKTCGFDFTGALEDISKIPEQSVLLLHACAHNPTGVDPRPEQWKEIATVVKKRNLFAFFDMAYQGFASGDGDKDAWAVRHFIEQGINVCLCQSYAKNMGLYGERVGAFTVICKDADEAKRVESQLKILIRPMYSNPPIHGARIASTILTSPDLRKQWLQEVKGMADRIIGMRTQLVSNLKKEGSTHSWQHITDQIGMFCFTGLKPEQVERLTKEFSIYMTKDGRISVAGVTSGNVGYLAHAIHQVTK\"\n",
    "embedding = elmo_embedder.embed(sequence)\n",
    "features = elmo_embedder.get_features()"
   ]
  },
  {
   "cell_type": "code",
   "execution_count": 4,
   "metadata": {},
   "outputs": [
    {
     "data": {
      "text/plain": [
       "{'predictedSubcellularLocalizations': 'Mitochondrion',\n 'predictedMembrane': 'Soluble',\n 'predictedDSSP3': 'CCCCCCCCCCCCCCCCCCCCCCCCCCCCCCCHHHHCCCCCCCCHHHHHHHHHHCCCCCCEECCCCCECCCCCCECCCHHHHHHHHHHHHCCCCCCCCCCCCCHHHHHHHHHHHHCCCCHHCCCCCEEEEEECCHHHHHHHHHHHHHHHHCCCCEEEEECCCCCCHHHHHHHHCCEEEEEEECCCCCCCECHHHHHHHHHHCCCCCEEEEEECCCCCCCCCCCHHHHHHHHHHHHHCCCEEEEECCCCCCCCCCCCCCHHHHHHHHHHCCCEEEEEECCCCCCCCCCCCCEEEEEECCHHHHHHHHHHHHHHCCCCCCCCHHHHHHHHHHHHCCHHHHHHHHHHHHHHHHHHHHHHHHHHHHHHHCCCCCCCHHHHHCCCEEEEECCCHHHHHHHHHHCEEEEECCCCEEECCCCHHHHHHHHHHHHHHHC',\n 'predictedDSSP8': 'CCCCCCCCCCCCCCCCCCCCCHHCCCCCCCCHHGGCCCCCCCCHHHHHHHHHHHTTCCCECCCCCCECCTTSCBCCCHHHHHHHHHHHHTTCCCCCCCCTCCHHHHHHHHHHHHTCCCHHCCTCCEEEEEESCHHHHHHHHHHHHHHHHTCCSEEEEECSCCTTHHHHHHHTTCEEEEEEECCTTTCCECHHHHHHHHHTCCTTCEEEEECSSCCTTCCCCCHHHHHHHHHHHHHTTCEEEEECTTTTCCCTTTCTTHHHHHHHHHTTCCEEEEEETTSTTCCTTCCCEEEEEEESCHHHHHHHHHHHHHHCCCTTSCHHHHHHHHHHHHTTCHHHHHHHHHHHHHHHHHHHHHHHHHHHHHHHTTCCCCEHHHHHTCCEEEEEECCHHHHHHHHHHEEEEEETTSEEEEECCCHHHHHHHHHHHHHHHC',\n 'predictedDisorder': 'XXXXXXXXXXXXXXXXXXXXXXXXX---------------------------------------------------------------------------------------------------------------------------------------------------------------------------------------------------------------------------------------------------------------------------------------------------------------------------------------------------------------------------------------------------------------------'}"
      ]
     },
     "execution_count": 4,
     "metadata": {},
     "output_type": "execute_result"
    }
   ],
   "source": [
    "features.to_dict()"
   ]
  },
  {
   "cell_type": "code",
   "execution_count": null,
   "metadata": {},
   "outputs": [],
   "source": []
  }
 ],
 "metadata": {
  "kernelspec": {
   "display_name": "Python 2",
   "language": "python",
   "name": "python2"
  },
  "language_info": {
   "codemirror_mode": {
    "name": "ipython",
    "version": 2
   },
   "file_extension": ".py",
   "mimetype": "text/x-python",
   "name": "python",
   "nbconvert_exporter": "python",
   "pygments_lexer": "ipython2",
   "version": "2.7.6"
  }
 },
 "nbformat": 4,
 "nbformat_minor": 0
}
