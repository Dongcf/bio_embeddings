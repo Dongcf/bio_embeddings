{
 "cells": [
  {
   "cell_type": "markdown",
   "metadata": {},
   "source": [
    "### Open the embeddings from a pipeline run and use them\n",
    "\n",
    "In the following we will open up some seqvec embeddings produced by the pipeline and use them for visualizations. We will start with the reduced embeddings: these are per-protein embeddings (as opposed to per-amino-acid)."
   ]
  },
  {
   "cell_type": "code",
   "execution_count": 1,
   "metadata": {},
   "outputs": [],
   "source": [
    "import h5py"
   ]
  },
  {
   "cell_type": "code",
   "execution_count": 2,
   "metadata": {},
   "outputs": [],
   "source": [
    "proteins = []"
   ]
  },
  {
   "cell_type": "code",
   "execution_count": 3,
   "metadata": {},
   "outputs": [],
   "source": [
    "with h5py.File('pipeline_output_example/reduced_embeddings_file.h5', 'r') as f:\n",
    "    for protein_id in f.keys():\n",
    "        proteins.append((protein_id, list(f[protein_id])))"
   ]
  },
  {
   "cell_type": "code",
   "execution_count": 4,
   "metadata": {},
   "outputs": [
    {
     "name": "stdout",
     "output_type": "stream",
     "text": [
      "The first protein in the set has id 12fe229c316d544bfb78c332f181a5b9 and the embedding is of size 1024.\n"
     ]
    }
   ],
   "source": [
    "print(\"The first protein in the set has id {} and the embedding is of size {}.\"\n",
    "      .format(proteins[0][0], len(proteins[0][1])))"
   ]
  },
  {
   "cell_type": "markdown",
   "metadata": {},
   "source": [
    "##### Remapping IDs\n",
    "\n",
    "The pipeline produces an id (md5 hash of the protein seqeunce) for every protein seqeunce in the input FASTA file. It does so to create a unique identifier to allow easier identification of the proteins downstream.\n",
    "\n",
    "We want to re-map the original IDs found in the input FASTA file to the new IDs in the array of proteins above. The next code blocks will do just that."
   ]
  },
  {
   "cell_type": "code",
   "execution_count": 5,
   "metadata": {},
   "outputs": [],
   "source": [
    "from pandas import read_csv"
   ]
  },
  {
   "cell_type": "code",
   "execution_count": 6,
   "metadata": {},
   "outputs": [],
   "source": [
    "mapping_file = read_csv('pipeline_output_example/mapping_file.csv', index_col=0)"
   ]
  },
  {
   "cell_type": "code",
   "execution_count": 7,
   "metadata": {},
   "outputs": [],
   "source": [
    "proteins = [(mapping_file.loc[p[0]].original_id, p[1]) for p in proteins]"
   ]
  },
  {
   "cell_type": "code",
   "execution_count": null,
   "metadata": {},
   "outputs": [],
   "source": []
  }
 ],
 "metadata": {
  "kernelspec": {
   "display_name": "Python 3",
   "language": "python",
   "name": "python3"
  },
  "language_info": {
   "codemirror_mode": {
    "name": "ipython",
    "version": 3
   },
   "file_extension": ".py",
   "mimetype": "text/x-python",
   "name": "python",
   "nbconvert_exporter": "python",
   "pygments_lexer": "ipython3",
   "version": "3.7.6"
  }
 },
 "nbformat": 4,
 "nbformat_minor": 1
}
