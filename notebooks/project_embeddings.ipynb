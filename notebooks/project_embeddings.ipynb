{
 "cells": [
  {
   "cell_type": "code",
   "execution_count": 1,
   "metadata": {},
   "outputs": [
    {
     "name": "stderr",
     "output_type": "stream",
     "text": [
      "/Users/chdallago/miniconda3/envs/allennlp/lib/python3.6/site-packages/sklearn/utils/linear_assignment_.py:21: DeprecationWarning: The linear_assignment_ module is deprecated in 0.21 and will be removed from 0.23. Use scipy.optimize.linear_sum_assignment instead.\n",
      "  DeprecationWarning)\n"
     ]
    }
   ],
   "source": [
    "from bio_embeddings import SeqVecEmbedder\n",
    "from pandas import read_excel, DataFrame"
   ]
  },
  {
   "cell_type": "code",
   "execution_count": 2,
   "metadata": {},
   "outputs": [
    {
     "name": "stdout",
     "output_type": "stream",
     "text": [
      "LOG: CUDA NOT available\n"
     ]
    }
   ],
   "source": [
    "embedder = SeqVecEmbedder(weights_file=\"../models/elmov1/weights.hdf5\", options_file=\"../models/elmov1/options.json\")"
   ]
  },
  {
   "cell_type": "code",
   "execution_count": 3,
   "metadata": {},
   "outputs": [
    {
     "data": {
      "text/html": [
       "<div>\n",
       "<style scoped>\n",
       "    .dataframe tbody tr th:only-of-type {\n",
       "        vertical-align: middle;\n",
       "    }\n",
       "\n",
       "    .dataframe tbody tr th {\n",
       "        vertical-align: top;\n",
       "    }\n",
       "\n",
       "    .dataframe thead th {\n",
       "        text-align: right;\n",
       "    }\n",
       "</style>\n",
       "<table border=\"1\" class=\"dataframe\">\n",
       "  <thead>\n",
       "    <tr style=\"text-align: right;\">\n",
       "      <th></th>\n",
       "      <th>VH</th>\n",
       "      <th>D</th>\n",
       "      <th>RF</th>\n",
       "      <th>JH</th>\n",
       "      <th>JH.1</th>\n",
       "      <th>HEAVY CDR3 (aa)</th>\n",
       "      <th>HEAVY Length</th>\n",
       "      <th>Vk</th>\n",
       "      <th>Jk</th>\n",
       "      <th>CDR3DNA</th>\n",
       "      <th>LIGHT CDR3 (aa)</th>\n",
       "      <th>LIGHT Length</th>\n",
       "      <th>Poly</th>\n",
       "      <th>Hep2</th>\n",
       "      <th>Staining</th>\n",
       "    </tr>\n",
       "    <tr>\n",
       "      <th>Ig</th>\n",
       "      <th></th>\n",
       "      <th></th>\n",
       "      <th></th>\n",
       "      <th></th>\n",
       "      <th></th>\n",
       "      <th></th>\n",
       "      <th></th>\n",
       "      <th></th>\n",
       "      <th></th>\n",
       "      <th></th>\n",
       "      <th></th>\n",
       "      <th></th>\n",
       "      <th></th>\n",
       "      <th></th>\n",
       "      <th></th>\n",
       "    </tr>\n",
       "  </thead>\n",
       "  <tbody>\n",
       "    <tr>\n",
       "      <th>neHD11 102</th>\n",
       "      <td>4-39</td>\n",
       "      <td>3-10</td>\n",
       "      <td>3</td>\n",
       "      <td>3</td>\n",
       "      <td>NaN</td>\n",
       "      <td>DGITMVRGPHDAFDI</td>\n",
       "      <td>15</td>\n",
       "      <td>3-15</td>\n",
       "      <td>1</td>\n",
       "      <td>NaN</td>\n",
       "      <td>QQYNNWPPTWT</td>\n",
       "      <td>11</td>\n",
       "      <td>-</td>\n",
       "      <td>-</td>\n",
       "      <td>-</td>\n",
       "    </tr>\n",
       "    <tr>\n",
       "      <th>neHD11 104</th>\n",
       "      <td>4-30-2</td>\n",
       "      <td>3-9</td>\n",
       "      <td>1</td>\n",
       "      <td>5</td>\n",
       "      <td>NaN</td>\n",
       "      <td>GGLYFDWPKGGWFDP</td>\n",
       "      <td>15</td>\n",
       "      <td>3-15</td>\n",
       "      <td>1</td>\n",
       "      <td>NaN</td>\n",
       "      <td>QQYNNWPWT</td>\n",
       "      <td>9</td>\n",
       "      <td>+</td>\n",
       "      <td>+</td>\n",
       "      <td>-</td>\n",
       "    </tr>\n",
       "  </tbody>\n",
       "</table>\n",
       "</div>"
      ],
      "text/plain": [
       "                VH     D RF  JH  JH.1  HEAVY CDR3 (aa)   HEAVY Length    Vk  \\\n",
       "Ig                                                                            \n",
       "neHD11 102    4-39  3-10  3   3   NaN  DGITMVRGPHDAFDI             15  3-15   \n",
       "neHD11 104  4-30-2   3-9  1   5   NaN  GGLYFDWPKGGWFDP             15  3-15   \n",
       "\n",
       "            Jk  CDR3DNA LIGHT CDR3 (aa)  LIGHT Length Poly Hep2 Staining  \n",
       "Ig                                                                        \n",
       "neHD11 102   1      NaN     QQYNNWPPTWT            11    -    -        -  \n",
       "neHD11 104   1      NaN       QQYNNWPWT             9    +    +        -  "
      ]
     },
     "metadata": {},
     "output_type": "display_data"
    }
   ],
   "source": [
    "data = read_excel('../private/antibodies.xls', index_col=0)\n",
    "display(data[:2])"
   ]
  },
  {
   "cell_type": "code",
   "execution_count": 4,
   "metadata": {},
   "outputs": [],
   "source": [
    "heavy_embeddings = [embedder.reduce_per_protein(embedding) for embedding in embedder.embed_many(data['HEAVY CDR3 (aa)'])]\n",
    "ligth_embeddings = [embedder.reduce_per_protein(embedding) for embedding in embedder.embed_many(data['LIGHT CDR3 (aa)'])]\n",
    "\n",
    "samples = list(zip(heavy_embeddings, ligth_embeddings, data['Poly']))"
   ]
  },
  {
   "cell_type": "code",
   "execution_count": 5,
   "metadata": {},
   "outputs": [],
   "source": [
    "import matplotlib.pyplot as plt\n",
    "from sklearn.metrics import pairwise_distances\n",
    "from sklearn.manifold import TSNE\n",
    "\n",
    "%matplotlib inline"
   ]
  },
  {
   "cell_type": "code",
   "execution_count": 6,
   "metadata": {},
   "outputs": [],
   "source": [
    "def get_tsne(data, perp=8, n_iter=15000):\n",
    "    distance_matrix = pairwise_distances(data, data, metric='cosine', n_jobs=-1)\n",
    "    transformed_embeddings = TSNE(n_components= 2,\n",
    "                      perplexity  = perp,\n",
    "                      random_state= 420,\n",
    "                      n_iter      = n_iter,\n",
    "                      verbose     = 1,\n",
    "                      metric      = 'precomputed'\n",
    "                     ).fit_transform(distance_matrix)\n",
    "    return transformed_embeddings"
   ]
  },
  {
   "cell_type": "code",
   "execution_count": 10,
   "metadata": {},
   "outputs": [
    {
     "name": "stdout",
     "output_type": "stream",
     "text": [
      "[t-SNE] Computing 17 nearest neighbors...\n",
      "[t-SNE] Indexed 18 samples in 0.000s...\n",
      "[t-SNE] Computed neighbors for 18 samples in 0.001s...\n",
      "[t-SNE] Computed conditional probabilities for sample 18 / 18\n",
      "[t-SNE] Mean sigma: 0.178383\n",
      "[t-SNE] KL divergence after 250 iterations with early exaggeration: 71.668747\n",
      "[t-SNE] KL divergence after 2350 iterations: 0.149281\n"
     ]
    }
   ],
   "source": [
    "transformed_embeddings = get_tsne([sample[0]+sample[1] for sample in samples])"
   ]
  },
  {
   "cell_type": "code",
   "execution_count": 18,
   "metadata": {},
   "outputs": [],
   "source": [
    "embeddings_dataframe = DataFrame(transformed_embeddings, columns=[\"x\", \"y\"])\n",
    "embeddings_dataframe['label'] = [sample[2] for sample in samples]\n",
    "embeddings_dataframe['label'] = embeddings_dataframe['label'].apply(lambda x: 0 if x == '+' else 1)"
   ]
  },
  {
   "cell_type": "code",
   "execution_count": 19,
   "metadata": {},
   "outputs": [
    {
     "data": {
      "text/plain": [
       "<matplotlib.axes._subplots.AxesSubplot at 0x13e8e1cc0>"
      ]
     },
     "execution_count": 19,
     "metadata": {},
     "output_type": "execute_result"
    },
    {
     "data": {
      "image/png": "[encoded data removed]",
      "text/plain": [
       "<Figure size 432x288 with 2 Axes>"
      ]
     },
     "metadata": {
      "needs_background": "light"
     },
     "output_type": "display_data"
    }
   ],
   "source": [
    "embeddings_dataframe[:2]\n",
    "embeddings_dataframe.plot.scatter(x='x',y='y', c='label', colormap='viridis')"
   ]
  },
  {
   "cell_type": "code",
   "execution_count": null,
   "metadata": {},
   "outputs": [],
   "source": []
  }
 ],
 "metadata": {
  "kernelspec": {
   "display_name": "Python 3",
   "language": "python",
   "name": "python3"
  },
  "language_info": {
   "codemirror_mode": {
    "name": "ipython",
    "version": 3
   },
   "file_extension": ".py",
   "mimetype": "text/x-python",
   "name": "python",
   "nbconvert_exporter": "python",
   "pygments_lexer": "ipython3",
   "version": "3.6.8"
  }
 },
 "nbformat": 4,
 "nbformat_minor": 1
}
