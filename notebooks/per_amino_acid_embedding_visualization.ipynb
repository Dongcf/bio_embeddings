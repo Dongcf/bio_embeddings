{
 "cells": [
  {
   "cell_type": "code",
   "execution_count": null,
   "metadata": {
    "pycharm": {
     "is_executing": true
    }
   },
   "outputs": [],
   "source": [
    "import h5py\n",
    "import plotly\n",
    "import numpy as np\n",
    "import plotly.express as px"
   ]
  },
  {
   "cell_type": "code",
   "execution_count": null,
   "metadata": {},
   "outputs": [],
   "source": [
    "proteins = []\n",
    "with h5py.File('pipeline_output_example/prottrans_bert_embeddings_file.h5', 'r') as f:\n",
    "    for protein_id in f.keys():\n",
    "        proteins.append((protein_id, np.array(f[protein_id])))"
   ]
  },
  {
   "cell_type": "code",
   "execution_count": null,
   "metadata": {},
   "outputs": [],
   "source": [
    "for (identifier, embedding) in proteins:\n",
    "    fig = px.imshow(np.rot90(embedding), color_continuous_scale='RdBu', zmin=-.7, zmax=.7)\n",
    "    plotly.offline.plot(fig, filename=\"figures/\"+identifier+\"_prottrans_bert.html\")"
   ]
  },
  {
   "cell_type": "code",
   "execution_count": null,
   "metadata": {},
   "outputs": [],
   "source": [
    "proteins = []\n",
    "with h5py.File('pipeline_output_example/seqvec_embeddings_file.h5', 'r') as f:\n",
    "    for protein_id in f.keys():\n",
    "        proteins.append((protein_id, np.array(f[protein_id])[1]))"
   ]
  },
  {
   "cell_type": "code",
   "execution_count": null,
   "metadata": {},
   "outputs": [],
   "source": [
    "for (identifier, embedding) in proteins:\n",
    "    fig = px.imshow(np.rot90(embedding), color_continuous_scale='RdBu', zmin=-1.2, zmax=1.2)\n",
    "    plotly.offline.plot(fig, filename=\"figures/\"+identifier+\"_seqvec.html\")"
   ]
  },
  {
   "cell_type": "code",
   "execution_count": null,
   "metadata": {},
   "outputs": [],
   "source": []
  }
 ],
 "metadata": {
  "kernelspec": {
   "display_name": "Python 3",
   "language": "python",
   "name": "python3"
  },
  "language_info": {
   "codemirror_mode": {
    "name": "ipython",
    "version": 3
   },
   "file_extension": ".py",
   "mimetype": "text/x-python",
   "name": "python",
   "nbconvert_exporter": "python",
   "pygments_lexer": "ipython3",
   "version": "3.7.6"
  }
 },
 "nbformat": 4,
 "nbformat_minor": 2
}
